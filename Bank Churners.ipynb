{
 "cells": [
  {
   "cell_type": "code",
   "execution_count": 9,
   "id": "d2c15423",
   "metadata": {},
   "outputs": [],
   "source": [
    "import seaborn as sns\n",
    "import numpy as np\n",
    "import pandas as pd\n",
    "import matplotlib.pyplot as plt"
   ]
  },
  {
   "cell_type": "code",
   "execution_count": 2,
   "id": "b43ddfee",
   "metadata": {},
   "outputs": [],
   "source": [
    "df = pd.read_csv(\"BankChurnersTrain.csv\")"
   ]
  },
  {
   "cell_type": "code",
   "execution_count": 3,
   "id": "8c5e72d3",
   "metadata": {},
   "outputs": [
    {
     "data": {
      "text/html": [
       "<div>\n",
       "<style scoped>\n",
       "    .dataframe tbody tr th:only-of-type {\n",
       "        vertical-align: middle;\n",
       "    }\n",
       "\n",
       "    .dataframe tbody tr th {\n",
       "        vertical-align: top;\n",
       "    }\n",
       "\n",
       "    .dataframe thead th {\n",
       "        text-align: right;\n",
       "    }\n",
       "</style>\n",
       "<table border=\"1\" class=\"dataframe\">\n",
       "  <thead>\n",
       "    <tr style=\"text-align: right;\">\n",
       "      <th></th>\n",
       "      <th>CCNum</th>\n",
       "      <th>Trans_date_Time</th>\n",
       "      <th>Attrition_Flag</th>\n",
       "      <th>Surname</th>\n",
       "      <th>Age</th>\n",
       "      <th>Gender</th>\n",
       "      <th>CreditScore</th>\n",
       "      <th>Geography</th>\n",
       "      <th>Tenure</th>\n",
       "      <th>Education_Level</th>\n",
       "      <th>...</th>\n",
       "      <th>Credit_Limit</th>\n",
       "      <th>Total_Trans_Amt</th>\n",
       "      <th>Total_Trans_Ct</th>\n",
       "      <th>Balance</th>\n",
       "      <th>NumOfProducts</th>\n",
       "      <th>HasCrCard</th>\n",
       "      <th>IsActiveMember</th>\n",
       "      <th>EstimatedSalary</th>\n",
       "      <th>is_fraud</th>\n",
       "      <th>Exited</th>\n",
       "    </tr>\n",
       "  </thead>\n",
       "  <tbody>\n",
       "    <tr>\n",
       "      <th>0</th>\n",
       "      <td>768805383</td>\n",
       "      <td>01/01/2019 00:00</td>\n",
       "      <td>Existing Customer</td>\n",
       "      <td>Hargrave</td>\n",
       "      <td>45</td>\n",
       "      <td>M</td>\n",
       "      <td>619</td>\n",
       "      <td>France</td>\n",
       "      <td>2</td>\n",
       "      <td>High School</td>\n",
       "      <td>...</td>\n",
       "      <td>12691.0</td>\n",
       "      <td>1144</td>\n",
       "      <td>42</td>\n",
       "      <td>0.00</td>\n",
       "      <td>1</td>\n",
       "      <td>1</td>\n",
       "      <td>1</td>\n",
       "      <td>101348.88</td>\n",
       "      <td>0</td>\n",
       "      <td>1</td>\n",
       "    </tr>\n",
       "    <tr>\n",
       "      <th>1</th>\n",
       "      <td>818770008</td>\n",
       "      <td>01/01/2019 00:00</td>\n",
       "      <td>Existing Customer</td>\n",
       "      <td>Hill</td>\n",
       "      <td>49</td>\n",
       "      <td>F</td>\n",
       "      <td>608</td>\n",
       "      <td>Spain</td>\n",
       "      <td>1</td>\n",
       "      <td>Graduate</td>\n",
       "      <td>...</td>\n",
       "      <td>8256.0</td>\n",
       "      <td>1291</td>\n",
       "      <td>33</td>\n",
       "      <td>83807.86</td>\n",
       "      <td>1</td>\n",
       "      <td>0</td>\n",
       "      <td>1</td>\n",
       "      <td>112542.58</td>\n",
       "      <td>0</td>\n",
       "      <td>0</td>\n",
       "    </tr>\n",
       "    <tr>\n",
       "      <th>2</th>\n",
       "      <td>713982108</td>\n",
       "      <td>01/01/2019 00:00</td>\n",
       "      <td>Existing Customer</td>\n",
       "      <td>Onio</td>\n",
       "      <td>51</td>\n",
       "      <td>M</td>\n",
       "      <td>502</td>\n",
       "      <td>France</td>\n",
       "      <td>8</td>\n",
       "      <td>Graduate</td>\n",
       "      <td>...</td>\n",
       "      <td>3418.0</td>\n",
       "      <td>1887</td>\n",
       "      <td>20</td>\n",
       "      <td>159660.80</td>\n",
       "      <td>3</td>\n",
       "      <td>1</td>\n",
       "      <td>0</td>\n",
       "      <td>113931.57</td>\n",
       "      <td>0</td>\n",
       "      <td>1</td>\n",
       "    </tr>\n",
       "    <tr>\n",
       "      <th>3</th>\n",
       "      <td>769911858</td>\n",
       "      <td>01/01/2019 00:01</td>\n",
       "      <td>Existing Customer</td>\n",
       "      <td>Boni</td>\n",
       "      <td>40</td>\n",
       "      <td>F</td>\n",
       "      <td>699</td>\n",
       "      <td>France</td>\n",
       "      <td>1</td>\n",
       "      <td>High School</td>\n",
       "      <td>...</td>\n",
       "      <td>3313.0</td>\n",
       "      <td>1171</td>\n",
       "      <td>20</td>\n",
       "      <td>0.00</td>\n",
       "      <td>2</td>\n",
       "      <td>0</td>\n",
       "      <td>0</td>\n",
       "      <td>93826.63</td>\n",
       "      <td>0</td>\n",
       "      <td>0</td>\n",
       "    </tr>\n",
       "    <tr>\n",
       "      <th>4</th>\n",
       "      <td>709106358</td>\n",
       "      <td>01/01/2019 00:03</td>\n",
       "      <td>Existing Customer</td>\n",
       "      <td>Mitchell</td>\n",
       "      <td>40</td>\n",
       "      <td>M</td>\n",
       "      <td>850</td>\n",
       "      <td>Spain</td>\n",
       "      <td>2</td>\n",
       "      <td>Uneducated</td>\n",
       "      <td>...</td>\n",
       "      <td>4716.0</td>\n",
       "      <td>816</td>\n",
       "      <td>28</td>\n",
       "      <td>125510.82</td>\n",
       "      <td>1</td>\n",
       "      <td>1</td>\n",
       "      <td>1</td>\n",
       "      <td>79084.10</td>\n",
       "      <td>0</td>\n",
       "      <td>0</td>\n",
       "    </tr>\n",
       "  </tbody>\n",
       "</table>\n",
       "<p>5 rows × 22 columns</p>\n",
       "</div>"
      ],
      "text/plain": [
       "       CCNum   Trans_date_Time     Attrition_Flag   Surname  Age Gender  \\\n",
       "0  768805383  01/01/2019 00:00  Existing Customer  Hargrave   45      M   \n",
       "1  818770008  01/01/2019 00:00  Existing Customer      Hill   49      F   \n",
       "2  713982108  01/01/2019 00:00  Existing Customer      Onio   51      M   \n",
       "3  769911858  01/01/2019 00:01  Existing Customer      Boni   40      F   \n",
       "4  709106358  01/01/2019 00:03  Existing Customer  Mitchell   40      M   \n",
       "\n",
       "   CreditScore Geography  Tenure Education_Level  ... Credit_Limit  \\\n",
       "0          619    France       2     High School  ...      12691.0   \n",
       "1          608     Spain       1        Graduate  ...       8256.0   \n",
       "2          502    France       8        Graduate  ...       3418.0   \n",
       "3          699    France       1     High School  ...       3313.0   \n",
       "4          850     Spain       2      Uneducated  ...       4716.0   \n",
       "\n",
       "  Total_Trans_Amt  Total_Trans_Ct    Balance  NumOfProducts  HasCrCard  \\\n",
       "0            1144              42       0.00              1          1   \n",
       "1            1291              33   83807.86              1          0   \n",
       "2            1887              20  159660.80              3          1   \n",
       "3            1171              20       0.00              2          0   \n",
       "4             816              28  125510.82              1          1   \n",
       "\n",
       "   IsActiveMember  EstimatedSalary  is_fraud  Exited  \n",
       "0               1        101348.88         0       1  \n",
       "1               1        112542.58         0       0  \n",
       "2               0        113931.57         0       1  \n",
       "3               0         93826.63         0       0  \n",
       "4               1         79084.10         0       0  \n",
       "\n",
       "[5 rows x 22 columns]"
      ]
     },
     "execution_count": 3,
     "metadata": {},
     "output_type": "execute_result"
    }
   ],
   "source": [
    "df.head()"
   ]
  },
  {
   "cell_type": "markdown",
   "id": "e9b2c880",
   "metadata": {},
   "source": [
    "## Drop irrelevant columns"
   ]
  },
  {
   "cell_type": "code",
   "execution_count": 4,
   "id": "625ad272",
   "metadata": {},
   "outputs": [],
   "source": [
    "df = df.drop([\"CCNum\", \"Surname\"], axis = 1)"
   ]
  },
  {
   "cell_type": "code",
   "execution_count": 5,
   "id": "75d48f07",
   "metadata": {},
   "outputs": [
    {
     "data": {
      "text/html": [
       "<div>\n",
       "<style scoped>\n",
       "    .dataframe tbody tr th:only-of-type {\n",
       "        vertical-align: middle;\n",
       "    }\n",
       "\n",
       "    .dataframe tbody tr th {\n",
       "        vertical-align: top;\n",
       "    }\n",
       "\n",
       "    .dataframe thead th {\n",
       "        text-align: right;\n",
       "    }\n",
       "</style>\n",
       "<table border=\"1\" class=\"dataframe\">\n",
       "  <thead>\n",
       "    <tr style=\"text-align: right;\">\n",
       "      <th></th>\n",
       "      <th>Trans_date_Time</th>\n",
       "      <th>Attrition_Flag</th>\n",
       "      <th>Age</th>\n",
       "      <th>Gender</th>\n",
       "      <th>CreditScore</th>\n",
       "      <th>Geography</th>\n",
       "      <th>Tenure</th>\n",
       "      <th>Education_Level</th>\n",
       "      <th>Income_Category</th>\n",
       "      <th>Card_Category</th>\n",
       "      <th>Credit_Limit</th>\n",
       "      <th>Total_Trans_Amt</th>\n",
       "      <th>Total_Trans_Ct</th>\n",
       "      <th>Balance</th>\n",
       "      <th>NumOfProducts</th>\n",
       "      <th>HasCrCard</th>\n",
       "      <th>IsActiveMember</th>\n",
       "      <th>EstimatedSalary</th>\n",
       "      <th>is_fraud</th>\n",
       "      <th>Exited</th>\n",
       "    </tr>\n",
       "  </thead>\n",
       "  <tbody>\n",
       "    <tr>\n",
       "      <th>0</th>\n",
       "      <td>01/01/2019 00:00</td>\n",
       "      <td>Existing Customer</td>\n",
       "      <td>45</td>\n",
       "      <td>M</td>\n",
       "      <td>619</td>\n",
       "      <td>France</td>\n",
       "      <td>2</td>\n",
       "      <td>High School</td>\n",
       "      <td>$60K - $80K</td>\n",
       "      <td>Blue</td>\n",
       "      <td>12691.0</td>\n",
       "      <td>1144</td>\n",
       "      <td>42</td>\n",
       "      <td>0.00</td>\n",
       "      <td>1</td>\n",
       "      <td>1</td>\n",
       "      <td>1</td>\n",
       "      <td>101348.88</td>\n",
       "      <td>0</td>\n",
       "      <td>1</td>\n",
       "    </tr>\n",
       "    <tr>\n",
       "      <th>1</th>\n",
       "      <td>01/01/2019 00:00</td>\n",
       "      <td>Existing Customer</td>\n",
       "      <td>49</td>\n",
       "      <td>F</td>\n",
       "      <td>608</td>\n",
       "      <td>Spain</td>\n",
       "      <td>1</td>\n",
       "      <td>Graduate</td>\n",
       "      <td>Less than $40K</td>\n",
       "      <td>Blue</td>\n",
       "      <td>8256.0</td>\n",
       "      <td>1291</td>\n",
       "      <td>33</td>\n",
       "      <td>83807.86</td>\n",
       "      <td>1</td>\n",
       "      <td>0</td>\n",
       "      <td>1</td>\n",
       "      <td>112542.58</td>\n",
       "      <td>0</td>\n",
       "      <td>0</td>\n",
       "    </tr>\n",
       "    <tr>\n",
       "      <th>2</th>\n",
       "      <td>01/01/2019 00:00</td>\n",
       "      <td>Existing Customer</td>\n",
       "      <td>51</td>\n",
       "      <td>M</td>\n",
       "      <td>502</td>\n",
       "      <td>France</td>\n",
       "      <td>8</td>\n",
       "      <td>Graduate</td>\n",
       "      <td>$80K - $120K</td>\n",
       "      <td>Blue</td>\n",
       "      <td>3418.0</td>\n",
       "      <td>1887</td>\n",
       "      <td>20</td>\n",
       "      <td>159660.80</td>\n",
       "      <td>3</td>\n",
       "      <td>1</td>\n",
       "      <td>0</td>\n",
       "      <td>113931.57</td>\n",
       "      <td>0</td>\n",
       "      <td>1</td>\n",
       "    </tr>\n",
       "    <tr>\n",
       "      <th>3</th>\n",
       "      <td>01/01/2019 00:01</td>\n",
       "      <td>Existing Customer</td>\n",
       "      <td>40</td>\n",
       "      <td>F</td>\n",
       "      <td>699</td>\n",
       "      <td>France</td>\n",
       "      <td>1</td>\n",
       "      <td>High School</td>\n",
       "      <td>Less than $40K</td>\n",
       "      <td>Blue</td>\n",
       "      <td>3313.0</td>\n",
       "      <td>1171</td>\n",
       "      <td>20</td>\n",
       "      <td>0.00</td>\n",
       "      <td>2</td>\n",
       "      <td>0</td>\n",
       "      <td>0</td>\n",
       "      <td>93826.63</td>\n",
       "      <td>0</td>\n",
       "      <td>0</td>\n",
       "    </tr>\n",
       "    <tr>\n",
       "      <th>4</th>\n",
       "      <td>01/01/2019 00:03</td>\n",
       "      <td>Existing Customer</td>\n",
       "      <td>40</td>\n",
       "      <td>M</td>\n",
       "      <td>850</td>\n",
       "      <td>Spain</td>\n",
       "      <td>2</td>\n",
       "      <td>Uneducated</td>\n",
       "      <td>$60K - $80K</td>\n",
       "      <td>Blue</td>\n",
       "      <td>4716.0</td>\n",
       "      <td>816</td>\n",
       "      <td>28</td>\n",
       "      <td>125510.82</td>\n",
       "      <td>1</td>\n",
       "      <td>1</td>\n",
       "      <td>1</td>\n",
       "      <td>79084.10</td>\n",
       "      <td>0</td>\n",
       "      <td>0</td>\n",
       "    </tr>\n",
       "  </tbody>\n",
       "</table>\n",
       "</div>"
      ],
      "text/plain": [
       "    Trans_date_Time     Attrition_Flag  Age Gender  CreditScore Geography  \\\n",
       "0  01/01/2019 00:00  Existing Customer   45      M          619    France   \n",
       "1  01/01/2019 00:00  Existing Customer   49      F          608     Spain   \n",
       "2  01/01/2019 00:00  Existing Customer   51      M          502    France   \n",
       "3  01/01/2019 00:01  Existing Customer   40      F          699    France   \n",
       "4  01/01/2019 00:03  Existing Customer   40      M          850     Spain   \n",
       "\n",
       "   Tenure Education_Level Income_Category Card_Category  Credit_Limit  \\\n",
       "0       2     High School     $60K - $80K          Blue       12691.0   \n",
       "1       1        Graduate  Less than $40K          Blue        8256.0   \n",
       "2       8        Graduate    $80K - $120K          Blue        3418.0   \n",
       "3       1     High School  Less than $40K          Blue        3313.0   \n",
       "4       2      Uneducated     $60K - $80K          Blue        4716.0   \n",
       "\n",
       "   Total_Trans_Amt  Total_Trans_Ct    Balance  NumOfProducts  HasCrCard  \\\n",
       "0             1144              42       0.00              1          1   \n",
       "1             1291              33   83807.86              1          0   \n",
       "2             1887              20  159660.80              3          1   \n",
       "3             1171              20       0.00              2          0   \n",
       "4              816              28  125510.82              1          1   \n",
       "\n",
       "   IsActiveMember  EstimatedSalary  is_fraud  Exited  \n",
       "0               1        101348.88         0       1  \n",
       "1               1        112542.58         0       0  \n",
       "2               0        113931.57         0       1  \n",
       "3               0         93826.63         0       0  \n",
       "4               1         79084.10         0       0  "
      ]
     },
     "execution_count": 5,
     "metadata": {},
     "output_type": "execute_result"
    }
   ],
   "source": [
    "df.head()"
   ]
  },
  {
   "cell_type": "code",
   "execution_count": 14,
   "id": "d8e5953b",
   "metadata": {},
   "outputs": [
    {
     "data": {
      "text/plain": [
       "(10000, 20)"
      ]
     },
     "execution_count": 14,
     "metadata": {},
     "output_type": "execute_result"
    }
   ],
   "source": [
    "df.shape"
   ]
  },
  {
   "cell_type": "markdown",
   "id": "19be1e57",
   "metadata": {},
   "source": [
    "## Visualising Exit Rate"
   ]
  },
  {
   "cell_type": "code",
   "execution_count": 10,
   "id": "1770fe67",
   "metadata": {},
   "outputs": [
    {
     "data": {
      "image/png": "[encoded data removed]",
      "text/plain": [
       "<Figure size 648x504 with 1 Axes>"
      ]
     },
     "metadata": {},
     "output_type": "display_data"
    }
   ],
   "source": [
    "labels = 'Exited', 'Retained'\n",
    "sizes = [df.Exited[df['Exited']==1].count(), df.Exited[df['Exited']==0].count()]\n",
    "explode = (0, 0.1)\n",
    "fig1, ax1 = plt.subplots(figsize=(9, 7))\n",
    "ax1.pie(sizes, explode=explode, labels=labels, autopct='%1.1f%%',\n",
    "        shadow=True, startangle=90)\n",
    "ax1.axis('equal')\n",
    "plt.title(\"Proportion of customer churned and retained\", size = 20)\n",
    "plt.show()"
   ]
  },
  {
   "cell_type": "markdown",
   "id": "db94436f",
   "metadata": {},
   "source": [
    "### Approximately 20% of customers have exited the bank - hence data set is imbalanced"
   ]
  },
  {
   "cell_type": "code",
   "execution_count": 11,
   "id": "35975524",
   "metadata": {},
   "outputs": [
    {
     "data": {
      "text/plain": [
       "Text(0.5, 1.0, 'Countplot-Geography Column')"
      ]
     },
     "execution_count": 11,
     "metadata": {},
     "output_type": "execute_result"
    },
    {
     "data": {
      "image/png": "[encoded data removed]",
      "text/plain": [
       "<Figure size 432x288 with 1 Axes>"
      ]
     },
     "metadata": {
      "needs_background": "light"
     },
     "output_type": "display_data"
    }
   ],
   "source": [
    "sns.countplot(x='Geography', hue = 'Exited',data = df).set_title('Countplot-Geography Column')"
   ]
  },
  {
   "cell_type": "code",
   "execution_count": 12,
   "id": "f58cba6a",
   "metadata": {},
   "outputs": [
    {
     "name": "stdout",
     "output_type": "stream",
     "text": [
      "Exited        0    1\n",
      "Geography           \n",
      "France     4204  810\n",
      "Germany    1695  814\n",
      "Spain      2064  413\n"
     ]
    }
   ],
   "source": [
    "print (pd.crosstab(df[\"Geography\"],df[\"Exited\"]))"
   ]
  },
  {
   "cell_type": "markdown",
   "id": "0823dcad",
   "metadata": {},
   "source": [
    "French customers account for 52.15% of customers - 16.1 % of french customers have left\n",
    "German customers account for 25% of customers - 32% of german customers have left\n",
    "Spainish customers account for 24.77% of customers - 16.6% of spanish customers have left"
   ]
  },
  {
   "cell_type": "code",
   "execution_count": 17,
   "id": "f54e71be",
   "metadata": {},
   "outputs": [
    {
     "data": {
      "text/plain": [
       "Text(0.5, 1.0, 'Countplot-Gender Column')"
      ]
     },
     "execution_count": 17,
     "metadata": {},
     "output_type": "execute_result"
    },
    {
     "data": {
      "image/png": "[encoded data removed]",
      "text/plain": [
       "<Figure size 432x288 with 1 Axes>"
      ]
     },
     "metadata": {
      "needs_background": "light"
     },
     "output_type": "display_data"
    }
   ],
   "source": [
    "sns.countplot(x='Gender', hue = 'Exited',data = df).set_title('Countplot-Gender Column')\n"
   ]
  },
  {
   "cell_type": "code",
   "execution_count": 18,
   "id": "98d0eec6",
   "metadata": {},
   "outputs": [
    {
     "name": "stdout",
     "output_type": "stream",
     "text": [
      "Exited     0     1\n",
      "Gender            \n",
      "F       4223  1093\n",
      "M       3740   944\n"
     ]
    }
   ],
   "source": [
    "print (pd.crosstab(df[\"Gender\"],df[\"Exited\"]))"
   ]
  },
  {
   "cell_type": "code",
   "execution_count": null,
   "id": "7ba98caa",
   "metadata": {},
   "outputs": [],
   "source": []
  },
  {
   "cell_type": "code",
   "execution_count": 19,
   "id": "f47ac630",
   "metadata": {},
   "outputs": [
    {
     "data": {
      "text/plain": [
       "Text(0.5, 1.0, 'Countplot-HasCreditCard Column')"
      ]
     },
     "execution_count": 19,
     "metadata": {},
     "output_type": "execute_result"
    },
    {
     "data": {
      "image/png": "[encoded data removed]",
      "text/plain": [
       "<Figure size 432x288 with 1 Axes>"
      ]
     },
     "metadata": {
      "needs_background": "light"
     },
     "output_type": "display_data"
    }
   ],
   "source": [
    "sns.countplot(x='HasCrCard', hue = 'Exited',data = df).set_title('Countplot-HasCreditCard Column')\n"
   ]
  },
  {
   "cell_type": "code",
   "execution_count": 20,
   "id": "7a18efde",
   "metadata": {},
   "outputs": [
    {
     "name": "stdout",
     "output_type": "stream",
     "text": [
      "Exited        0     1\n",
      "HasCrCard            \n",
      "0          2332   613\n",
      "1          5631  1424\n"
     ]
    }
   ],
   "source": [
    "print (pd.crosstab(df[\"HasCrCard\"],df[\"Exited\"]))"
   ]
  },
  {
   "cell_type": "code",
   "execution_count": 21,
   "id": "0cb47976",
   "metadata": {},
   "outputs": [
    {
     "data": {
      "text/plain": [
       "Text(0.5, 1.0, 'Countplot-HasCreditCard Column')"
      ]
     },
     "execution_count": 21,
     "metadata": {},
     "output_type": "execute_result"
    },
    {
     "data": {
      "image/png": "[encoded data removed]",
      "text/plain": [
       "<Figure size 432x288 with 1 Axes>"
      ]
     },
     "metadata": {
      "needs_background": "light"
     },
     "output_type": "display_data"
    }
   ],
   "source": [
    "sns.countplot(x='Tenure', hue = 'Exited',data = df).set_title('Countplot-HasCreditCard Column')\n"
   ]
  },
  {
   "cell_type": "code",
   "execution_count": 22,
   "id": "3573b259",
   "metadata": {},
   "outputs": [
    {
     "name": "stdout",
     "output_type": "stream",
     "text": [
      "Exited    0    1\n",
      "Tenure          \n",
      "0       318   95\n",
      "1       803  232\n",
      "2       847  201\n",
      "3       796  213\n",
      "4       786  203\n",
      "5       803  209\n",
      "6       771  196\n",
      "7       851  177\n",
      "8       828  197\n",
      "9       771  213\n",
      "10      389  101\n"
     ]
    }
   ],
   "source": [
    "print (pd.crosstab(df[\"Tenure\"],df[\"Exited\"]))"
   ]
  },
  {
   "cell_type": "code",
   "execution_count": 26,
   "id": "f97635cd",
   "metadata": {},
   "outputs": [
    {
     "data": {
      "text/plain": [
       "Text(0.5, 1.0, 'Countplot-HasCreditCard Column')"
      ]
     },
     "execution_count": 26,
     "metadata": {},
     "output_type": "execute_result"
    },
    {
     "data": {
      "image/png": "[encoded data removed]",
      "text/plain": [
       "<Figure size 432x288 with 1 Axes>"
      ]
     },
     "metadata": {
      "needs_background": "light"
     },
     "output_type": "display_data"
    }
   ],
   "source": [
    "sns.countplot(x='Education_Level', hue = 'Exited',data = df).set_title('Countplot-HasCreditCard Column')\n"
   ]
  },
  {
   "cell_type": "code",
   "execution_count": 27,
   "id": "db434471",
   "metadata": {},
   "outputs": [
    {
     "data": {
      "text/plain": [
       "Text(0.5, 1.0, 'Countplot-HasCreditCard Column')"
      ]
     },
     "execution_count": 27,
     "metadata": {},
     "output_type": "execute_result"
    },
    {
     "data": {
      "image/png": "[encoded data removed]",
      "text/plain": [
       "<Figure size 432x288 with 1 Axes>"
      ]
     },
     "metadata": {
      "needs_background": "light"
     },
     "output_type": "display_data"
    }
   ],
   "source": [
    "sns.countplot(x='Income_Category', hue = 'Exited',data = df).set_title('Countplot-HasCreditCard Column')\n"
   ]
  },
  {
   "cell_type": "code",
   "execution_count": null,
   "id": "13df60b5",
   "metadata": {},
   "outputs": [],
   "source": []
  },
  {
   "cell_type": "code",
   "execution_count": null,
   "id": "64cb3735",
   "metadata": {},
   "outputs": [],
   "source": []
  },
  {
   "cell_type": "code",
   "execution_count": 28,
   "id": "f7668774",
   "metadata": {
    "scrolled": true
   },
   "outputs": [
    {
     "data": {
      "text/plain": [
       "<AxesSubplot: xlabel='Exited', ylabel='EstimatedSalary'>"
      ]
     },
     "execution_count": 28,
     "metadata": {},
     "output_type": "execute_result"
    },
    {
     "data": {
      "image/png": "[encoded data removed]",
      "text/plain": [
       "<Figure size 1440x864 with 6 Axes>"
      ]
     },
     "metadata": {
      "needs_background": "light"
     },
     "output_type": "display_data"
    }
   ],
   "source": [
    "fig, axarr = plt.subplots(3, 2, figsize=(20, 12))\n",
    "sns.boxplot(y='CreditScore',x = 'Exited', hue = 'Exited',data = df, ax=axarr[0][0]).set_title('Boxplot- Credit Score Column')\n",
    "sns.boxplot(y='Age',x = 'Exited', hue = 'Exited',data = df , ax=axarr[0][1]).set_title('Boxplot- Age Column')\n",
    "sns.boxplot(y='Tenure',x = 'Exited', hue = 'Exited',data = df, ax=axarr[1][0])\n",
    "sns.boxplot(y='Balance',x = 'Exited', hue = 'Exited',data = df, ax=axarr[1][1])\n",
    "sns.boxplot(y='NumOfProducts',x = 'Exited', hue = 'Exited',data = df, ax=axarr[2][0])\n",
    "sns.boxplot(y='EstimatedSalary',x = 'Exited', hue = 'Exited',data = df, ax=axarr[2][1])"
   ]
  },
  {
   "cell_type": "markdown",
   "id": "deb5c495",
   "metadata": {},
   "source": [
    "We can seen customers who churn have a slightly higher balance than those who don't "
   ]
  },
  {
   "cell_type": "code",
   "execution_count": 25,
   "id": "f2bdf1a2",
   "metadata": {},
   "outputs": [
    {
     "data": {
      "text/plain": [
       "1    5084\n",
       "2    4590\n",
       "3     266\n",
       "4      60\n",
       "Name: NumOfProducts, dtype: int64"
      ]
     },
     "execution_count": 25,
     "metadata": {},
     "output_type": "execute_result"
    }
   ],
   "source": [
    "df['NumOfProducts'].value_counts()"
   ]
  },
  {
   "cell_type": "code",
   "execution_count": null,
   "id": "e2c6539f",
   "metadata": {},
   "outputs": [],
   "source": []
  },
  {
   "cell_type": "code",
   "execution_count": null,
   "id": "5edb61fe",
   "metadata": {},
   "outputs": [],
   "source": []
  },
  {
   "cell_type": "code",
   "execution_count": null,
   "id": "473cfe7a",
   "metadata": {},
   "outputs": [],
   "source": []
  }
 ],
 "metadata": {
  "kernelspec": {
   "display_name": "Python 3",
   "language": "python",
   "name": "python3"
  },
  "language_info": {
   "codemirror_mode": {
    "name": "ipython",
    "version": 3
   },
   "file_extension": ".py",
   "mimetype": "text/x-python",
   "name": "python",
   "nbconvert_exporter": "python",
   "pygments_lexer": "ipython3",
   "version": "3.8.5"
  }
 },
 "nbformat": 4,
 "nbformat_minor": 5
}
